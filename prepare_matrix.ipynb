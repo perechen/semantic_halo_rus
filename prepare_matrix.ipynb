{
 "cells": [
  {
   "cell_type": "code",
   "execution_count": 1,
   "metadata": {},
   "outputs": [
    {
     "name": "stderr",
     "output_type": "stream",
     "text": [
      "── \u001b[1mAttaching packages\u001b[22m ─────────────────────────────────────── tidyverse 1.3.0 ──\n",
      "\n",
      "\u001b[32m✔\u001b[39m \u001b[34mggplot2\u001b[39m 3.3.1     \u001b[32m✔\u001b[39m \u001b[34mpurrr  \u001b[39m 0.3.3\n",
      "\u001b[32m✔\u001b[39m \u001b[34mtibble \u001b[39m 3.0.1     \u001b[32m✔\u001b[39m \u001b[34mdplyr  \u001b[39m 0.8.5\n",
      "\u001b[32m✔\u001b[39m \u001b[34mtidyr  \u001b[39m 1.0.2     \u001b[32m✔\u001b[39m \u001b[34mstringr\u001b[39m 1.4.0\n",
      "\u001b[32m✔\u001b[39m \u001b[34mreadr  \u001b[39m 1.3.1     \u001b[32m✔\u001b[39m \u001b[34mforcats\u001b[39m 0.5.0\n",
      "\n",
      "── \u001b[1mConflicts\u001b[22m ────────────────────────────────────────── tidyverse_conflicts() ──\n",
      "\u001b[31m✖\u001b[39m \u001b[34mdplyr\u001b[39m::\u001b[32mfilter()\u001b[39m masks \u001b[34mstats\u001b[39m::filter()\n",
      "\u001b[31m✖\u001b[39m \u001b[34mdplyr\u001b[39m::\u001b[32mlag()\u001b[39m    masks \u001b[34mstats\u001b[39m::lag()\n",
      "\n",
      "Loading required package: NLP\n",
      "\n",
      "\n",
      "Attaching package: ‘NLP’\n",
      "\n",
      "\n",
      "The following object is masked from ‘package:ggplot2’:\n",
      "\n",
      "    annotate\n",
      "\n",
      "\n"
     ]
    }
   ],
   "source": [
    "library(tidyverse)\n",
    "library(tidytext)\n",
    "library(topicmodels)\n",
    "library(tm)\n",
    "\n",
    "# meter cleaning function\n",
    "source(\"src/meter_cleaning.R\")"
   ]
  },
  {
   "cell_type": "markdown",
   "metadata": {},
   "source": [
    "## 1. Load raw DTM"
   ]
  },
  {
   "cell_type": "code",
   "execution_count": 2,
   "metadata": {
    "scrolled": true
   },
   "outputs": [
    {
     "name": "stderr",
     "output_type": "stream",
     "text": [
      "Parsed with column specification:\n",
      "cols(\n",
      "  .default = col_double(),\n",
      "  index = \u001b[31mcol_character()\u001b[39m\n",
      ")\n",
      "\n",
      "See spec(...) for full column specifications.\n",
      "\n"
     ]
    }
   ],
   "source": [
    "# load dtm\n",
    "# if you want to replicate this part of the script, don't forget to UZNIP TD_matrix first\n",
    "\n",
    "#unzip(zipfile=\"/data/TD_matrix_tf.5000.tsv.zip\", exdir=\"data/\")\n",
    "\n",
    "wide_dtm = read_tsv(\"data/TD_matrix_tf_5000_years.tsv\")\n"
   ]
  },
  {
   "cell_type": "markdown",
   "metadata": {},
   "source": [
    "## 2. Clean meter labels"
   ]
  },
  {
   "cell_type": "code",
   "execution_count": 3,
   "metadata": {},
   "outputs": [
    {
     "data": {
      "text/html": [
       "82415"
      ],
      "text/latex": [
       "82415"
      ],
      "text/markdown": [
       "82415"
      ],
      "text/plain": [
       "[1] 82415"
      ]
     },
     "metadata": {},
     "output_type": "display_data"
    }
   ],
   "source": [
    "#get doc names and run a meter cleaning function\n",
    "\n",
    "docs_clean = clean_meter_from_docnames(wide_dtm[,1])\n",
    "\n",
    "nrow(docs_clean)"
   ]
  },
  {
   "cell_type": "markdown",
   "metadata": {},
   "source": [
    "## 3. Year cleaning"
   ]
  },
  {
   "cell_type": "code",
   "execution_count": 5,
   "metadata": {},
   "outputs": [
    {
     "name": "stderr",
     "output_type": "stream",
     "text": [
      "Warning message:\n",
      "“Expected 2 pieces. Missing pieces filled with `NA` in 65899 rows [1, 6, 9, 10, 11, 12, 14, 15, 16, 17, 19, 20, 22, 24, 25, 26, 27, 28, 35, 36, ...].”\n"
     ]
    }
   ],
   "source": [
    "names_clean = docs_clean  %>% separate(doc, c(\"id\", \"auth\", \"year\", \"meter\", \"clausula\"),sep=\"_\")  %>%\n",
    "mutate(idnum = row_number(), #preserve original of a label in dtm\n",
    "       nchar = nchar(year))  %>% \n",
    "separate(year, c(\"start\", \"end\"), sep=\"-\")  %>% mutate(start = as.numeric(start), end=as.numeric(end))  %>%\n",
    "mutate(diff = end-start)  %>% \n",
    "mutate(year = case_when(is.na(diff) ~ start,\n",
    "                             diff < 30 ~ end))  %>% #to all uncertain dates assign the upper threshold if difference between lower and upper is less  than 30 years, otherwise NA\n",
    "filter(year < 1950)  %>% #filter first half\n",
    "select(idnum, id, auth, year, meter, clausula)  %>% \n",
    "unite(doc, id:clausula)"
   ]
  },
  {
   "cell_type": "markdown",
   "metadata": {},
   "source": [
    "## 3. Prepare matrix"
   ]
  },
  {
   "cell_type": "code",
   "execution_count": 6,
   "metadata": {},
   "outputs": [],
   "source": [
    "#subset matrix by year\n",
    "dtm_fin = wide_dtm %>% select(-index) %>% as.matrix()\n",
    "rm(wide_dtm)\n",
    "dtm_fin = dtm_fin[names_clean$idnum,]\n",
    "\n",
    "\n"
   ]
  },
  {
   "cell_type": "code",
   "execution_count": 7,
   "metadata": {},
   "outputs": [],
   "source": [
    "#set names with cleaned meter\n",
    "rownames(dtm_fin) = names_clean  %>% pull(doc)\n",
    "\n",
    "#dtm_fin = as.DocumentTermMatrix(dtm_fin, weighting = tm::weightTf)\n"
   ]
  },
  {
   "cell_type": "code",
   "execution_count": 8,
   "metadata": {},
   "outputs": [
    {
     "data": {
      "text/html": [
       "<table>\n",
       "<caption>A matrix: 10 × 4982 of type dbl</caption>\n",
       "<thead>\n",
       "\t<tr><th></th><th scope=col>август</th><th scope=col>аврора</th><th scope=col>автомобиль</th><th scope=col>ад</th><th scope=col>адам</th><th scope=col>адский</th><th scope=col>азия</th><th scope=col>ай</th><th scope=col>акация</th><th scope=col>аккорд</th><th scope=col>⋯</th><th scope=col>ярко</th><th scope=col>ярмо</th><th scope=col>яростный</th><th scope=col>ярость</th><th scope=col>ярый</th><th scope=col>ясно</th><th scope=col>ясность</th><th scope=col>ясный</th><th scope=col>ястреб</th><th scope=col>ящик</th></tr>\n",
       "</thead>\n",
       "<tbody>\n",
       "\t<tr><th scope=row>fonviz-281_Д.И.Фонвизин_1787_Я6_жжмм</th><td>0</td><td>0</td><td>0</td><td>0</td><td>0</td><td>0</td><td>0</td><td>0</td><td>0</td><td>0</td><td>⋯</td><td>0</td><td>0</td><td>0</td><td>0</td><td>0</td><td>0</td><td>0</td><td>0</td><td>0</td><td>0</td></tr>\n",
       "\t<tr><th scope=row>vmaik-017_В.И.Майков_1767_Явольн_вольн</th><td>0</td><td>0</td><td>0</td><td>0</td><td>0</td><td>0</td><td>0</td><td>0</td><td>0</td><td>0</td><td>⋯</td><td>0</td><td>0</td><td>0</td><td>0</td><td>0</td><td>0</td><td>0</td><td>0</td><td>0</td><td>0</td></tr>\n",
       "\t<tr><th scope=row>vmaik-026_В.И.Майков_1767_Явольн_вольн</th><td>0</td><td>0</td><td>0</td><td>0</td><td>0</td><td>0</td><td>0</td><td>0</td><td>0</td><td>0</td><td>⋯</td><td>0</td><td>0</td><td>0</td><td>0</td><td>0</td><td>0</td><td>0</td><td>0</td><td>0</td><td>0</td></tr>\n",
       "\t<tr><th scope=row>vmaik-095_В.И.Майков_1767_Я6_жжмм</th><td>0</td><td>0</td><td>0</td><td>0</td><td>0</td><td>0</td><td>0</td><td>0</td><td>0</td><td>0</td><td>⋯</td><td>0</td><td>0</td><td>0</td><td>0</td><td>0</td><td>0</td><td>0</td><td>0</td><td>0</td><td>0</td></tr>\n",
       "\t<tr><th scope=row>vmaik-113_В.И.Майков_1776_Я6_ммжж</th><td>0</td><td>0</td><td>0</td><td>0</td><td>0</td><td>0</td><td>0</td><td>0</td><td>0</td><td>0</td><td>⋯</td><td>0</td><td>0</td><td>0</td><td>0</td><td>0</td><td>0</td><td>0</td><td>0</td><td>0</td><td>0</td></tr>\n",
       "\t<tr><th scope=row>vmaik-035_В.И.Майков_1767_Явольн_вольн</th><td>0</td><td>0</td><td>0</td><td>0</td><td>0</td><td>0</td><td>0</td><td>0</td><td>0</td><td>0</td><td>⋯</td><td>0</td><td>0</td><td>0</td><td>0</td><td>0</td><td>0</td><td>0</td><td>0</td><td>0</td><td>0</td></tr>\n",
       "\t<tr><th scope=row>vmaik-094_В.И.Майков_1762_Я6_жжмм</th><td>0</td><td>1</td><td>0</td><td>0</td><td>0</td><td>0</td><td>0</td><td>0</td><td>0</td><td>0</td><td>⋯</td><td>0</td><td>0</td><td>0</td><td>0</td><td>0</td><td>0</td><td>0</td><td>0</td><td>0</td><td>0</td></tr>\n",
       "\t<tr><th scope=row>vmaik-063_В.И.Майков_1778_Я4_жм</th><td>0</td><td>0</td><td>0</td><td>0</td><td>0</td><td>1</td><td>0</td><td>0</td><td>0</td><td>0</td><td>⋯</td><td>0</td><td>0</td><td>0</td><td>0</td><td>0</td><td>0</td><td>0</td><td>0</td><td>0</td><td>0</td></tr>\n",
       "\t<tr><th scope=row>vmaik-071_В.И.Майков_1770_Я6_жжмм</th><td>0</td><td>0</td><td>0</td><td>0</td><td>0</td><td>0</td><td>0</td><td>0</td><td>0</td><td>0</td><td>⋯</td><td>0</td><td>0</td><td>0</td><td>0</td><td>0</td><td>0</td><td>0</td><td>0</td><td>0</td><td>0</td></tr>\n",
       "\t<tr><th scope=row>vmaik-067_В.И.Майков_1773_Х4_мж</th><td>0</td><td>0</td><td>0</td><td>0</td><td>0</td><td>0</td><td>0</td><td>0</td><td>0</td><td>0</td><td>⋯</td><td>0</td><td>0</td><td>0</td><td>0</td><td>0</td><td>0</td><td>0</td><td>0</td><td>0</td><td>0</td></tr>\n",
       "</tbody>\n",
       "</table>\n"
      ],
      "text/latex": [
       "A matrix: 10 × 4982 of type dbl\n",
       "\\begin{tabular}{r|lllllllllllllllllllll}\n",
       "  & август & аврора & автомобиль & ад & адам & адский & азия & ай & акация & аккорд & ⋯ & ярко & ярмо & яростный & ярость & ярый & ясно & ясность & ясный & ястреб & ящик\\\\\n",
       "\\hline\n",
       "\tfonviz-281\\_Д.И.Фонвизин\\_1787\\_Я6\\_жжмм & 0 & 0 & 0 & 0 & 0 & 0 & 0 & 0 & 0 & 0 & ⋯ & 0 & 0 & 0 & 0 & 0 & 0 & 0 & 0 & 0 & 0\\\\\n",
       "\tvmaik-017\\_В.И.Майков\\_1767\\_Явольн\\_вольн & 0 & 0 & 0 & 0 & 0 & 0 & 0 & 0 & 0 & 0 & ⋯ & 0 & 0 & 0 & 0 & 0 & 0 & 0 & 0 & 0 & 0\\\\\n",
       "\tvmaik-026\\_В.И.Майков\\_1767\\_Явольн\\_вольн & 0 & 0 & 0 & 0 & 0 & 0 & 0 & 0 & 0 & 0 & ⋯ & 0 & 0 & 0 & 0 & 0 & 0 & 0 & 0 & 0 & 0\\\\\n",
       "\tvmaik-095\\_В.И.Майков\\_1767\\_Я6\\_жжмм & 0 & 0 & 0 & 0 & 0 & 0 & 0 & 0 & 0 & 0 & ⋯ & 0 & 0 & 0 & 0 & 0 & 0 & 0 & 0 & 0 & 0\\\\\n",
       "\tvmaik-113\\_В.И.Майков\\_1776\\_Я6\\_ммжж & 0 & 0 & 0 & 0 & 0 & 0 & 0 & 0 & 0 & 0 & ⋯ & 0 & 0 & 0 & 0 & 0 & 0 & 0 & 0 & 0 & 0\\\\\n",
       "\tvmaik-035\\_В.И.Майков\\_1767\\_Явольн\\_вольн & 0 & 0 & 0 & 0 & 0 & 0 & 0 & 0 & 0 & 0 & ⋯ & 0 & 0 & 0 & 0 & 0 & 0 & 0 & 0 & 0 & 0\\\\\n",
       "\tvmaik-094\\_В.И.Майков\\_1762\\_Я6\\_жжмм & 0 & 1 & 0 & 0 & 0 & 0 & 0 & 0 & 0 & 0 & ⋯ & 0 & 0 & 0 & 0 & 0 & 0 & 0 & 0 & 0 & 0\\\\\n",
       "\tvmaik-063\\_В.И.Майков\\_1778\\_Я4\\_жм & 0 & 0 & 0 & 0 & 0 & 1 & 0 & 0 & 0 & 0 & ⋯ & 0 & 0 & 0 & 0 & 0 & 0 & 0 & 0 & 0 & 0\\\\\n",
       "\tvmaik-071\\_В.И.Майков\\_1770\\_Я6\\_жжмм & 0 & 0 & 0 & 0 & 0 & 0 & 0 & 0 & 0 & 0 & ⋯ & 0 & 0 & 0 & 0 & 0 & 0 & 0 & 0 & 0 & 0\\\\\n",
       "\tvmaik-067\\_В.И.Майков\\_1773\\_Х4\\_мж & 0 & 0 & 0 & 0 & 0 & 0 & 0 & 0 & 0 & 0 & ⋯ & 0 & 0 & 0 & 0 & 0 & 0 & 0 & 0 & 0 & 0\\\\\n",
       "\\end{tabular}\n"
      ],
      "text/markdown": [
       "\n",
       "A matrix: 10 × 4982 of type dbl\n",
       "\n",
       "| <!--/--> | август | аврора | автомобиль | ад | адам | адский | азия | ай | акация | аккорд | ⋯ | ярко | ярмо | яростный | ярость | ярый | ясно | ясность | ясный | ястреб | ящик |\n",
       "|---|---|---|---|---|---|---|---|---|---|---|---|---|---|---|---|---|---|---|---|---|---|\n",
       "| fonviz-281_Д.И.Фонвизин_1787_Я6_жжмм | 0 | 0 | 0 | 0 | 0 | 0 | 0 | 0 | 0 | 0 | ⋯ | 0 | 0 | 0 | 0 | 0 | 0 | 0 | 0 | 0 | 0 |\n",
       "| vmaik-017_В.И.Майков_1767_Явольн_вольн | 0 | 0 | 0 | 0 | 0 | 0 | 0 | 0 | 0 | 0 | ⋯ | 0 | 0 | 0 | 0 | 0 | 0 | 0 | 0 | 0 | 0 |\n",
       "| vmaik-026_В.И.Майков_1767_Явольн_вольн | 0 | 0 | 0 | 0 | 0 | 0 | 0 | 0 | 0 | 0 | ⋯ | 0 | 0 | 0 | 0 | 0 | 0 | 0 | 0 | 0 | 0 |\n",
       "| vmaik-095_В.И.Майков_1767_Я6_жжмм | 0 | 0 | 0 | 0 | 0 | 0 | 0 | 0 | 0 | 0 | ⋯ | 0 | 0 | 0 | 0 | 0 | 0 | 0 | 0 | 0 | 0 |\n",
       "| vmaik-113_В.И.Майков_1776_Я6_ммжж | 0 | 0 | 0 | 0 | 0 | 0 | 0 | 0 | 0 | 0 | ⋯ | 0 | 0 | 0 | 0 | 0 | 0 | 0 | 0 | 0 | 0 |\n",
       "| vmaik-035_В.И.Майков_1767_Явольн_вольн | 0 | 0 | 0 | 0 | 0 | 0 | 0 | 0 | 0 | 0 | ⋯ | 0 | 0 | 0 | 0 | 0 | 0 | 0 | 0 | 0 | 0 |\n",
       "| vmaik-094_В.И.Майков_1762_Я6_жжмм | 0 | 1 | 0 | 0 | 0 | 0 | 0 | 0 | 0 | 0 | ⋯ | 0 | 0 | 0 | 0 | 0 | 0 | 0 | 0 | 0 | 0 |\n",
       "| vmaik-063_В.И.Майков_1778_Я4_жм | 0 | 0 | 0 | 0 | 0 | 1 | 0 | 0 | 0 | 0 | ⋯ | 0 | 0 | 0 | 0 | 0 | 0 | 0 | 0 | 0 | 0 |\n",
       "| vmaik-071_В.И.Майков_1770_Я6_жжмм | 0 | 0 | 0 | 0 | 0 | 0 | 0 | 0 | 0 | 0 | ⋯ | 0 | 0 | 0 | 0 | 0 | 0 | 0 | 0 | 0 | 0 |\n",
       "| vmaik-067_В.И.Майков_1773_Х4_мж | 0 | 0 | 0 | 0 | 0 | 0 | 0 | 0 | 0 | 0 | ⋯ | 0 | 0 | 0 | 0 | 0 | 0 | 0 | 0 | 0 | 0 |\n",
       "\n"
      ],
      "text/plain": [
       "                                       август аврора автомобиль ад адам адский\n",
       "fonviz-281_Д.И.Фонвизин_1787_Я6_жжмм   0      0      0          0  0    0     \n",
       "vmaik-017_В.И.Майков_1767_Явольн_вольн 0      0      0          0  0    0     \n",
       "vmaik-026_В.И.Майков_1767_Явольн_вольн 0      0      0          0  0    0     \n",
       "vmaik-095_В.И.Майков_1767_Я6_жжмм      0      0      0          0  0    0     \n",
       "vmaik-113_В.И.Майков_1776_Я6_ммжж      0      0      0          0  0    0     \n",
       "vmaik-035_В.И.Майков_1767_Явольн_вольн 0      0      0          0  0    0     \n",
       "vmaik-094_В.И.Майков_1762_Я6_жжмм      0      1      0          0  0    0     \n",
       "vmaik-063_В.И.Майков_1778_Я4_жм        0      0      0          0  0    1     \n",
       "vmaik-071_В.И.Майков_1770_Я6_жжмм      0      0      0          0  0    0     \n",
       "vmaik-067_В.И.Майков_1773_Х4_мж        0      0      0          0  0    0     \n",
       "                                       азия ай акация аккорд ⋯ ярко ярмо\n",
       "fonviz-281_Д.И.Фонвизин_1787_Я6_жжмм   0    0  0      0      ⋯ 0    0   \n",
       "vmaik-017_В.И.Майков_1767_Явольн_вольн 0    0  0      0      ⋯ 0    0   \n",
       "vmaik-026_В.И.Майков_1767_Явольн_вольн 0    0  0      0      ⋯ 0    0   \n",
       "vmaik-095_В.И.Майков_1767_Я6_жжмм      0    0  0      0      ⋯ 0    0   \n",
       "vmaik-113_В.И.Майков_1776_Я6_ммжж      0    0  0      0      ⋯ 0    0   \n",
       "vmaik-035_В.И.Майков_1767_Явольн_вольн 0    0  0      0      ⋯ 0    0   \n",
       "vmaik-094_В.И.Майков_1762_Я6_жжмм      0    0  0      0      ⋯ 0    0   \n",
       "vmaik-063_В.И.Майков_1778_Я4_жм        0    0  0      0      ⋯ 0    0   \n",
       "vmaik-071_В.И.Майков_1770_Я6_жжмм      0    0  0      0      ⋯ 0    0   \n",
       "vmaik-067_В.И.Майков_1773_Х4_мж        0    0  0      0      ⋯ 0    0   \n",
       "                                       яростный ярость ярый ясно ясность ясный\n",
       "fonviz-281_Д.И.Фонвизин_1787_Я6_жжмм   0        0      0    0    0       0    \n",
       "vmaik-017_В.И.Майков_1767_Явольн_вольн 0        0      0    0    0       0    \n",
       "vmaik-026_В.И.Майков_1767_Явольн_вольн 0        0      0    0    0       0    \n",
       "vmaik-095_В.И.Майков_1767_Я6_жжмм      0        0      0    0    0       0    \n",
       "vmaik-113_В.И.Майков_1776_Я6_ммжж      0        0      0    0    0       0    \n",
       "vmaik-035_В.И.Майков_1767_Явольн_вольн 0        0      0    0    0       0    \n",
       "vmaik-094_В.И.Майков_1762_Я6_жжмм      0        0      0    0    0       0    \n",
       "vmaik-063_В.И.Майков_1778_Я4_жм        0        0      0    0    0       0    \n",
       "vmaik-071_В.И.Майков_1770_Я6_жжмм      0        0      0    0    0       0    \n",
       "vmaik-067_В.И.Майков_1773_Х4_мж        0        0      0    0    0       0    \n",
       "                                       ястреб ящик\n",
       "fonviz-281_Д.И.Фонвизин_1787_Я6_жжмм   0      0   \n",
       "vmaik-017_В.И.Майков_1767_Явольн_вольн 0      0   \n",
       "vmaik-026_В.И.Майков_1767_Явольн_вольн 0      0   \n",
       "vmaik-095_В.И.Майков_1767_Я6_жжмм      0      0   \n",
       "vmaik-113_В.И.Майков_1776_Я6_ммжж      0      0   \n",
       "vmaik-035_В.И.Майков_1767_Явольн_вольн 0      0   \n",
       "vmaik-094_В.И.Майков_1762_Я6_жжмм      0      0   \n",
       "vmaik-063_В.И.Майков_1778_Я4_жм        0      0   \n",
       "vmaik-071_В.И.Майков_1770_Я6_жжмм      0      0   \n",
       "vmaik-067_В.И.Майков_1773_Х4_мж        0      0   "
      ]
     },
     "metadata": {},
     "output_type": "display_data"
    }
   ],
   "source": [
    "dtm_fin[1:10,]"
   ]
  },
  {
   "cell_type": "markdown",
   "metadata": {},
   "source": [
    "## 4. Trim out small texts"
   ]
  },
  {
   "cell_type": "code",
   "execution_count": 10,
   "metadata": {},
   "outputs": [],
   "source": [
    "x = rowSums(dtm_fin)"
   ]
  },
  {
   "cell_type": "code",
   "execution_count": 11,
   "metadata": {},
   "outputs": [
    {
     "data": {
      "text/html": [
       "<table>\n",
       "<caption>A tibble: 1 × 1</caption>\n",
       "<thead>\n",
       "\t<tr><th scope=col>m</th></tr>\n",
       "\t<tr><th scope=col>&lt;dbl&gt;</th></tr>\n",
       "</thead>\n",
       "<tbody>\n",
       "\t<tr><td>47</td></tr>\n",
       "</tbody>\n",
       "</table>\n"
      ],
      "text/latex": [
       "A tibble: 1 × 1\n",
       "\\begin{tabular}{l}\n",
       " m\\\\\n",
       " <dbl>\\\\\n",
       "\\hline\n",
       "\t 47\\\\\n",
       "\\end{tabular}\n"
      ],
      "text/markdown": [
       "\n",
       "A tibble: 1 × 1\n",
       "\n",
       "| m &lt;dbl&gt; |\n",
       "|---|\n",
       "| 47 |\n",
       "\n"
      ],
      "text/plain": [
       "  m \n",
       "1 47"
      ]
     },
     "metadata": {},
     "output_type": "display_data"
    },
    {
     "data": {
      "text/html": [
       "<table>\n",
       "<caption>A tibble: 1 × 2</caption>\n",
       "<thead>\n",
       "\t<tr><th scope=col>lower</th><th scope=col>upper</th></tr>\n",
       "\t<tr><th scope=col>&lt;dbl&gt;</th><th scope=col>&lt;dbl&gt;</th></tr>\n",
       "</thead>\n",
       "<tbody>\n",
       "\t<tr><td>20</td><td>102</td></tr>\n",
       "</tbody>\n",
       "</table>\n"
      ],
      "text/latex": [
       "A tibble: 1 × 2\n",
       "\\begin{tabular}{ll}\n",
       " lower & upper\\\\\n",
       " <dbl> & <dbl>\\\\\n",
       "\\hline\n",
       "\t 20 & 102\\\\\n",
       "\\end{tabular}\n"
      ],
      "text/markdown": [
       "\n",
       "A tibble: 1 × 2\n",
       "\n",
       "| lower &lt;dbl&gt; | upper &lt;dbl&gt; |\n",
       "|---|---|\n",
       "| 20 | 102 |\n",
       "\n"
      ],
      "text/plain": [
       "  lower upper\n",
       "1 20    102  "
      ]
     },
     "metadata": {},
     "output_type": "display_data"
    },
    {
     "data": {
      "image/png": "[encoded data removed]",
      "text/plain": [
       "plot without title"
      ]
     },
     "metadata": {
      "image/png": {
       "height": 420,
       "width": 420
      },
      "text/plain": {
       "height": 420,
       "width": 420
      }
     },
     "output_type": "display_data"
    }
   ],
   "source": [
    "# visualize size distribution & quantiles\n",
    "poem_size = tibble(doc = names(x), n_words = x)\n",
    "\n",
    "quantiles = poem_size %>%\n",
    "  summarize(lower = quantile(n_words, probs = .10),\n",
    "            upper = quantile(n_words, probs = .90))\n",
    "\n",
    "poem_size  %>% ggplot(aes(n_words)) + geom_bar(alpha=0.6) +\n",
    "  geom_vline(data = quantiles, aes(xintercept = lower)) +\n",
    "  geom_vline(data = quantiles, aes(xintercept = upper))\n",
    "\n",
    "poem_size  %>% filter(n_words > 27 & n_words < 99)  %>% summarise(m = median(n_words))\n",
    "\n",
    "quantiles"
   ]
  },
  {
   "cell_type": "code",
   "execution_count": null,
   "metadata": {},
   "outputs": [],
   "source": [
    "poem_size  %>% \n",
    "    separate(doc, c(\"id\", \"author\", \"firstline\", \"meter\", \"claus\"),sep=\"_\")  %>% \n",
    "    group_by(meter)  %>% \n",
    "    mutate(meter_size = max(row_number(meter)))  %>% \n",
    "    filter(meter != \"NA\",\n",
    "           meter_size > 200)  %>% \n",
    "ggplot(aes(n_words)) + geom_bar() + facet_wrap(~meter)"
   ]
  },
  {
   "cell_type": "code",
   "execution_count": 13,
   "metadata": {
    "scrolled": true
   },
   "outputs": [
    {
     "data": {
      "text/html": [
       "60379"
      ],
      "text/latex": [
       "60379"
      ],
      "text/markdown": [
       "60379"
      ],
      "text/plain": [
       "[1] 60379"
      ]
     },
     "metadata": {},
     "output_type": "display_data"
    },
    {
     "data": {
      "text/html": [
       "47804"
      ],
      "text/latex": [
       "47804"
      ],
      "text/markdown": [
       "47804"
      ],
      "text/plain": [
       "[1] 47804"
      ]
     },
     "metadata": {},
     "output_type": "display_data"
    }
   ],
   "source": [
    "# trim dtm to .10 - .80 range\n",
    "\n",
    "length(x)\n",
    "\n",
    "dtm_fin = dtm_fin[(x > quantiles$lower) & (x < quantiles$upper),]\n",
    "\n",
    "nrow(dtm_fin)"
   ]
  },
  {
   "cell_type": "markdown",
   "metadata": {},
   "source": [
    "## 5. Save final DTM"
   ]
  },
  {
   "cell_type": "code",
   "execution_count": 14,
   "metadata": {},
   "outputs": [],
   "source": [
    "save(dtm_fin, file=\"data/dtm_fin.Rda\")"
   ]
  }
 ],
 "metadata": {
  "kernelspec": {
   "display_name": "R",
   "language": "R",
   "name": "ir"
  },
  "language_info": {
   "codemirror_mode": "r",
   "file_extension": ".r",
   "mimetype": "text/x-r-source",
   "name": "R",
   "pygments_lexer": "r",
   "version": "4.0.2"
  }
 },
 "nbformat": 4,
 "nbformat_minor": 2
}
